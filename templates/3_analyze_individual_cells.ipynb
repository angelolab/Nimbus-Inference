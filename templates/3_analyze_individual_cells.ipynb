{
 "cells": [
  {
   "cell_type": "markdown",
   "metadata": {},
   "source": [
    "### Cell analysis notebook\n",
    "- Extract cells where the pure pixie annotation and the nimbus-pixie annotation disagree.\n",
    "- Build a viewer widget with channels on the left and an instance map on the right with all cells in gray, except the one in question.\n",
    "- Add a dropdown on the left to select the cell in question.\n",
    "- Add a dropdown with the correct celltype and a button to submit the correction."
   ]
  },
  {
   "cell_type": "code",
   "execution_count": null,
   "metadata": {},
   "outputs": [],
   "source": [
    "from IPython.display import display, HTML\n",
    "display(HTML(\"<style>.container { width:100% !important; }</style>\"))\n",
    "from nimbus_inference.nimbus import prep_naming_convention\n",
    "from nimbus_inference.cell_analyzer import CellAnalyzer\n",
    "import pandas as pd\n",
    "import os"
   ]
  },
  {
   "cell_type": "markdown",
   "metadata": {},
   "source": [
    "### Get cells from confusion matrix off-diagonal\n",
    "Prepare a dataframe that contains the following columns:\n",
    "- `Cell ID`: arbitrary and unique cell id\n",
    "- `pixie_ct`: the cell type from the pixie annotation\n",
    "- `nimbus_ct`: the cell type from the nimbus-pixie annotation\n",
    "- `fov`: the fov of the cell\n",
    "- `label`: the instance label of the cell within the fov\n",
    "\n",
    "Change `base_dir` to your local data path. Below `base_dir` we expect the following folder structure:\n",
    "```\n",
    "|-- base_dir\n",
    "|   |-- image_data\n",
    "|   |   |-- fov_1\n",
    "|   |   |-- fov_2\n",
    "|   |-- segmentation\n",
    "|   |   |-- deepcell_output\n",
    "```"
   ]
  },
  {
   "cell_type": "code",
   "execution_count": null,
   "metadata": {},
   "outputs": [],
   "source": [
    "off_diagonal_df = pd.read_csv(\"E:/angelo_lab/data/DCIS/cell_tables/potchara_data.csv\")\n",
    "base_dir = os.path.normpath(\"E:/angelo_lab/data/DCIS\")\n",
    "tiff_dir = os.path.join(base_dir, \"20230317_DCIS\", \"image_data\")\n",
    "deepcell_output_dir = os.path.join(base_dir, \"deepcell_output\")\n",
    "segmentation_naming_convention = prep_naming_convention(deepcell_output_dir)\n",
    "\n",
    "fov_paths = [os.path.join(tiff_dir, f) for f in os.listdir(tiff_dir) if os.path.isdir(os.path.join(tiff_dir, f))]\n",
    "# test segmentation_naming_convention\n",
    "if os.path.exists(segmentation_naming_convention(fov_paths[0])):\n",
    "    print(\"Segmentation data exists for fov 0 and naming convention is correct\")\n",
    "else:\n",
    "    print(\"Segmentation data does not exist for fov 0 or naming convention is incorrect\")\n",
    "\n",
    "off_diagonal_df[\"Cell ID\"] = off_diagonal_df.index.values"
   ]
  },
  {
   "cell_type": "markdown",
   "metadata": {},
   "source": [
    "### Use the CellAnalyzer to annotate cells"
   ]
  },
  {
   "cell_type": "code",
   "execution_count": null,
   "metadata": {},
   "outputs": [],
   "source": [
    "viewer = CellAnalyzer(input_dir=tiff_dir,\n",
    "                      cell_df=off_diagonal_df,\n",
    "                      output_dir=base_dir,\n",
    "                      segmentation_naming_convention=segmentation_naming_convention,\n",
    "                      img_width='600px',\n",
    "                      context=120)\n",
    "viewer.display()"
   ]
  }
 ],
 "metadata": {
  "kernelspec": {
   "display_name": "Python 3 (ipykernel)",
   "language": "python",
   "name": "python3"
  },
  "language_info": {
   "codemirror_mode": {
    "name": "ipython",
    "version": 3
   },
   "file_extension": ".py",
   "mimetype": "text/x-python",
   "name": "python",
   "nbconvert_exporter": "python",
   "pygments_lexer": "ipython3",
   "version": "3.10.14"
  }
 },
 "nbformat": 4,
 "nbformat_minor": 2
}
