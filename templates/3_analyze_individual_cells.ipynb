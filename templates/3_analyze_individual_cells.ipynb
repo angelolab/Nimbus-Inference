{
 "cells": [
  {
   "cell_type": "markdown",
   "metadata": {},
   "source": [
    "### Cell analysis notebook\n",
    "- Extract cells where the pure pixie annotation and the nimbus-pixie annotation disagree.\n",
    "- Build a viewer widget with channels on the left and an instance map on the right with all cells in gray, except the one in question.\n",
    "- Add a dropdown on the left to select the cell in question.\n",
    "- Add a dropdown with the correct celltype and a button to submit the correction."
   ]
  },
  {
   "cell_type": "code",
   "execution_count": null,
   "metadata": {},
   "outputs": [],
   "source": [
    "from IPython.display import display, HTML\n",
    "display(HTML(\"<style>.container { width:100% !important; }</style>\"))\n",
    "from nimbus_inference.nimbus import prep_naming_convention\n",
    "from nimbus_inference.cell_analyzer import CellAnalyzer\n",
    "import pandas as pd\n",
    "import os"
   ]
  },
  {
   "cell_type": "markdown",
   "metadata": {},
   "source": [
    "### Get cells from confusion matrix off-diagonal\n",
    "Prepare a dataframe that contains the following columns:\n",
    "- `Cell ID`: arbitrary and unique cell id\n",
    "- `pixie_ct`: the cell type from the pixie annotation\n",
    "- `nimbus_ct`: the cell type from the nimbus-pixie annotation\n",
    "- `fov`: the fov of the cell\n",
    "- `label`: the instance label of the cell within the fov\n",
    "\n",
    "Change `base_dir` to your local data path. Below `base_dir` we expect the following folder structure:\n",
    "```\n",
    "|-- base_dir\n",
    "|   |-- image_data\n",
    "|   |   |-- fov_1\n",
    "|   |   |-- fov_2\n",
    "|   |-- segmentation\n",
    "|   |   |-- deepcell_output\n",
    "```"
   ]
  },
  {
   "cell_type": "code",
   "execution_count": null,
   "metadata": {},
   "outputs": [],
   "source": [
    "off_diagonal_df = pd.DataFrame(\n",
    "    {\n",
    "     \"Cell ID\": [1, 2, 3, 4],\n",
    "     \"pixie_ct\": [\"Eosinophil\", \"Neutrophil\", \"Lymphocyte\", \"Monocyte\"],\n",
    "     \"nimbus_ct\": [\"Neutrophil\", \"Lymphocyte\", \"Monocyte\", \"Eosinophil\"],\n",
    "     \"fov\": [\"TMA32_R4C6\", \"TMA32_R4C6\", \"TMA32_R5C4\", \"TMA32_R5C4\"],\n",
    "     \"label\": [451, 123, 234, 345],\n",
    "     } \n",
    ")\n",
    "base_dir = os.path.normpath(\"C:/Users/lorenz/Desktop/angelo_lab/data/SPAIN_TNBC_fov_subset\")\n",
    "tiff_dir = os.path.join(base_dir, \"image_data\")\n",
    "deepcell_output_dir = os.path.join(base_dir, \"segmentation\", \"deepcell_output\")\n",
    "segmentation_naming_convention = prep_naming_convention(deepcell_output_dir)\n",
    "\n",
    "off_diagonal_df"
   ]
  },
  {
   "cell_type": "markdown",
   "metadata": {},
   "source": [
    "### Use the CellAnalyzer to annotate cells"
   ]
  },
  {
   "cell_type": "code",
   "execution_count": null,
   "metadata": {},
   "outputs": [],
   "source": [
    "viewer = CellAnalyzer(input_dir=tiff_dir,\n",
    "                      cell_df=off_diagonal_df,\n",
    "                      output_dir=base_dir,\n",
    "                      segmentation_naming_convention=segmentation_naming_convention,\n",
    "                      img_width='600px',\n",
    "                      context=200)\n",
    "viewer.display()"
   ]
  }
 ],
 "metadata": {
  "kernelspec": {
   "display_name": "Python 3 (ipykernel)",
   "language": "python",
   "name": "python3"
  },
  "language_info": {
   "codemirror_mode": {
    "name": "ipython",
    "version": 3
   },
   "file_extension": ".py",
   "mimetype": "text/x-python",
   "name": "python",
   "nbconvert_exporter": "python",
   "pygments_lexer": "ipython3",
   "version": "3.10.0"
  }
 },
 "nbformat": 4,
 "nbformat_minor": 2
}
