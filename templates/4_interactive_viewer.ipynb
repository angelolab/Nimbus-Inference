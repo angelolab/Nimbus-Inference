{
 "cells": [
  {
   "cell_type": "markdown",
   "metadata": {},
   "source": [
    "# Nimbus Interactive Viewer\n",
    "This notebook let's you view the the Pan-Multiplex dataset and it's gold-standard annottions in an interactive way."
   ]
  },
  {
   "cell_type": "code",
   "execution_count": 1,
   "metadata": {},
   "outputs": [
    {
     "data": {
      "text/html": [
       "<style>.container { width:100% !important; }</style>"
      ],
      "text/plain": [
       "<IPython.core.display.HTML object>"
      ]
     },
     "metadata": {},
     "output_type": "display_data"
    },
    {
     "name": "stderr",
     "output_type": "stream",
     "text": [
      "C:\\Users\\lorenz\\Desktop\\angelo_lab\\Nimbus-Inference\\src\\nimbus_inference\\utils.py:10: TqdmExperimentalWarning: Using `tqdm.autonotebook.tqdm` in notebook mode. Use `tqdm.tqdm` instead to force console mode (e.g. in jupyter console)\n",
      "  from tqdm.autonotebook import tqdm\n"
     ]
    }
   ],
   "source": [
    "import os\n",
    "from IPython.display import display, HTML\n",
    "display(HTML(\"<style>.container { width:100% !important; }</style>\"))\n",
    "from nimbus_inference.nimbus import Nimbus, prep_naming_convention\n",
    "from nimbus_inference.utils import MultiplexDataset, InteractiveDataset\n",
    "from nimbus_inference.viewer_widget import NimbusInteractiveGTViewer\n",
    "from nimbus_inference.example_dataset import download_and_unpack_gold_standard\n",
    "from alpineer import io_utils\n",
    "import pandas as pd\n",
    "%matplotlib widget"
   ]
  },
  {
   "cell_type": "markdown",
   "metadata": {},
   "source": [
    "## 0: Download the Pan-Multiplex gold-standard subset\n",
    "The Pan-M dataset is a large dataset with over 100GB in images. To make it easier to view the annotations, we have created a subset of the dataset that only contains the FoVs that were manually annotated by experts. You can download this subset by running the following cells."
   ]
  },
  {
   "cell_type": "code",
   "execution_count": 2,
   "metadata": {},
   "outputs": [],
   "source": [
    "# Define the directory where you want to save the dataset\n",
    "save_dir = \"../data\"\n",
    "\n",
    "# Call the function to download and unpack the dataset\n",
    "download_and_unpack_gold_standard(save_dir=save_dir, overwrite_existing=False)"
   ]
  },
  {
   "cell_type": "code",
   "execution_count": 3,
   "metadata": {},
   "outputs": [],
   "source": [
    "# set up the base directory\n",
    "base_dir = os.path.normpath(\"../data/gold_standard_labelled\")"
   ]
  },
  {
   "cell_type": "markdown",
   "metadata": {},
   "source": [
    "## 1: Load Pan-Multiplex dataset and annotations via the `MultiplexDataset` class\n",
    "Next we will use the `MultiplexDataset` class to load the dataset and annotations. Then, the individual datasets are put into the `InteractiveDataset`, which allows for using the `NimbusInteractiveGTViewer` for interactive viewing of the data and annotations."
   ]
  },
  {
   "cell_type": "code",
   "execution_count": 4,
   "metadata": {},
   "outputs": [
    {
     "name": "stdout",
     "output_type": "stream",
     "text": [
      "Segmentation data exists for fov 0 and naming convention is correct\n",
      "All inputs are valid\n",
      "Segmentation data exists for fov 0 and naming convention is correct\n",
      "All inputs are valid\n",
      "Segmentation data exists for fov 0 and naming convention is correct\n",
      "All inputs are valid\n",
      "Segmentation data exists for fov 0 and naming convention is correct\n",
      "All inputs are valid\n",
      "Segmentation data exists for fov 0 and naming convention is correct\n",
      "All inputs are valid\n"
     ]
    }
   ],
   "source": [
    "gt_df = pd.read_csv(os.path.join(base_dir, \"gold_standard_groundtruth.csv\"))\n",
    "\n",
    "dataset_dict = {}\n",
    "dsets = ['codex_colon', 'mibi_breast', 'mibi_decidua', 'vectra_colon', 'vectra_pancreas']\n",
    "suffixes = ['.ome.tif', '.tiff', '.tif', '.ome.tif', '.ome.tif']\n",
    "\n",
    "for dset, suffix in zip(dsets, suffixes):\n",
    "    # prepare naming convetion\n",
    "    dataset_path = os.path.join(base_dir, dset)\n",
    "    fov_path = os.path.join(dataset_path, \"fovs\")\n",
    "    fov_paths = [os.path.join(fov_path, f) for f in os.listdir(fov_path)]\n",
    "    segmentation_dir = os.path.join(dataset_path, \"masks\")\n",
    "    segmentation_naming_convention = prep_naming_convention(segmentation_dir, approx=True)\n",
    "    # test segmentation_naming_convention\n",
    "    if os.path.exists(segmentation_naming_convention(fov_paths[0])):\n",
    "        print(\"Segmentation data exists for fov 0 and naming convention is correct\")\n",
    "    else:\n",
    "        print(\"Segmentation data does not exist for fov 0 or naming convention is incorrect\")\n",
    "    # initialize MultiplexedDataset objects\n",
    "    dataset = MultiplexDataset(\n",
    "        fov_paths=fov_paths,\n",
    "        suffix=suffix,\n",
    "        include_channels=gt_df[gt_df['dataset'] == dset]['channel'].tolist(),\n",
    "        segmentation_naming_convention=segmentation_naming_convention,\n",
    "        groundtruth_df=gt_df[gt_df['dataset'] == dset],\n",
    "        output_dir=dataset_path,\n",
    "    )\n",
    "    dataset_dict[dset] = dataset\n",
    "\n",
    "datasets = InteractiveDataset(\n",
    "    datasets=dataset_dict,\n",
    ")"
   ]
  },
  {
   "cell_type": "markdown",
   "metadata": {},
   "source": [
    "## 2. Use the `NimbusInteractiveGTViewer` to explore the dataset and annotations\n",
    "The `NimbusInteractiveGTViewer` class allows you to interactively view the dataset and annotations. You can zoom in and out of the images, pan around, and view the annotations on the right. The annotations are displayed with 100% pixel intensity for positive cells, 30% pixel intensity for ambiguous cells, and 0% pixel intensity for negative cells. Resize the viewer by dragging the triangle in the bottom right corner.\n",
    "\n",
    "To zoom in and out of the images and pan around:\n",
    "\n",
    "1. Click the cross icon on the left to enable image interaction mode.\n",
    "2. To pan, right-click and drag the image.\n",
    "3. To zoom, left-click on the image and drag up to zoom in or drag down to zoom out."
   ]
  },
  {
   "cell_type": "code",
   "execution_count": 6,
   "metadata": {
    "scrolled": false
   },
   "outputs": [
    {
     "data": {
      "application/vnd.jupyter.widget-view+json": {
       "model_id": "c8ea1fb7b4a7490c9c8686b772fb2d51",
       "version_major": 2,
       "version_minor": 0
      },
      "image/png": "[encoded data removed]",
      "text/html": [
       "\n",
       "            <div style=\"display: inline-block;\">\n",
       "                <div class=\"jupyter-widgets widget-label\" style=\"text-align: center;\">\n",
       "                    Figure\n",
       "                </div>\n",
       "                <img src='data:image/png;base64,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' width=1000.0/>\n",
       "            </div>\n",
       "        "
      ],
      "text/plain": [
       "Canvas(toolbar=Toolbar(toolitems=[('Home', 'Reset original view', 'home', 'home'), ('Back', 'Back to previous …"
      ]
     },
     "metadata": {},
     "output_type": "display_data"
    },
    {
     "data": {
      "application/vnd.jupyter.widget-view+json": {
       "model_id": "13b3a3c7f4b34b739dfc757972dbc736",
       "version_major": 2,
       "version_minor": 0
      },
      "text/plain": [
       "HBox(children=(Select(description='Dataset:', options=('codex_colon', 'mibi_breast', 'mibi_decidua', 'vectra_c…"
      ]
     },
     "metadata": {},
     "output_type": "display_data"
    }
   ],
   "source": [
    "viewer = NimbusInteractiveGTViewer(\n",
    "    datasets=datasets,\n",
    "    output_dir=os.path.join(base_dir, \"output\"),\n",
    "    figsize=(10, 5),\n",
    ")\n",
    "viewer.display()"
   ]
  }
 ],
 "metadata": {
  "kernelspec": {
   "display_name": "Nimbus",
   "language": "python",
   "name": "python3"
  },
  "language_info": {
   "codemirror_mode": {
    "name": "ipython",
    "version": 3
   },
   "file_extension": ".py",
   "mimetype": "text/x-python",
   "name": "python",
   "nbconvert_exporter": "python",
   "pygments_lexer": "ipython3",
   "version": "3.10.0"
  }
 },
 "nbformat": 4,
 "nbformat_minor": 2
}
